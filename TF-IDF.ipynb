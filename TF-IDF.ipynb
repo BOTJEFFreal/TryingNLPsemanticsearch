{
 "cells": [
  {
   "cell_type": "code",
   "execution_count": 106,
   "id": "a0543621",
   "metadata": {},
   "outputs": [],
   "source": [
    "import pandas as pd\n",
    "import numpy as np\n",
    "from numpy.linalg import norm\n",
    "import matplotlib.pyplot as plt\n",
    "\n",
    "from nltk.tokenize import  word_tokenize \n",
    "from nltk.corpus import stopwords\n",
    "import string\n",
    "\n",
    "df = pd.read_csv('books.csv')\n",
    "df_title = df.title"
   ]
  },
  {
   "cell_type": "code",
   "execution_count": 89,
   "id": "269eb912",
   "metadata": {},
   "outputs": [
    {
     "data": {
      "text/html": [
       "<div>\n",
       "<style scoped>\n",
       "    .dataframe tbody tr th:only-of-type {\n",
       "        vertical-align: middle;\n",
       "    }\n",
       "\n",
       "    .dataframe tbody tr th {\n",
       "        vertical-align: top;\n",
       "    }\n",
       "\n",
       "    .dataframe thead th {\n",
       "        text-align: right;\n",
       "    }\n",
       "</style>\n",
       "<table border=\"1\" class=\"dataframe\">\n",
       "  <thead>\n",
       "    <tr style=\"text-align: right;\">\n",
       "      <th></th>\n",
       "      <th>bookID</th>\n",
       "      <th>title</th>\n",
       "      <th>authors</th>\n",
       "      <th>average_rating</th>\n",
       "      <th>language_code</th>\n",
       "      <th>num_pages</th>\n",
       "      <th>ratings_count</th>\n",
       "      <th>text_reviews_count</th>\n",
       "      <th>publication_date</th>\n",
       "      <th>publisher</th>\n",
       "      <th>summary</th>\n",
       "      <th>Unnamed: 11</th>\n",
       "    </tr>\n",
       "  </thead>\n",
       "  <tbody>\n",
       "    <tr>\n",
       "      <th>0</th>\n",
       "      <td>1</td>\n",
       "      <td>Harry Potter and the Half-Blood Prince (Harry ...</td>\n",
       "      <td>J.K. Rowling/Mary GrandPré</td>\n",
       "      <td>4.57</td>\n",
       "      <td>eng</td>\n",
       "      <td>652</td>\n",
       "      <td>2095690</td>\n",
       "      <td>27591</td>\n",
       "      <td>9/16/2006</td>\n",
       "      <td>Scholastic Inc.</td>\n",
       "      <td>The war against Voldemort is not going well; e...</td>\n",
       "      <td>NaN</td>\n",
       "    </tr>\n",
       "    <tr>\n",
       "      <th>1</th>\n",
       "      <td>2</td>\n",
       "      <td>Harry Potter and the Order of the Phoenix (Har...</td>\n",
       "      <td>J.K. Rowling/Mary GrandPré</td>\n",
       "      <td>4.49</td>\n",
       "      <td>eng</td>\n",
       "      <td>870</td>\n",
       "      <td>2153167</td>\n",
       "      <td>29221</td>\n",
       "      <td>9/1/2004</td>\n",
       "      <td>Scholastic Inc.</td>\n",
       "      <td>There is a door at the end of a silent corrido...</td>\n",
       "      <td>NaN</td>\n",
       "    </tr>\n",
       "    <tr>\n",
       "      <th>2</th>\n",
       "      <td>4</td>\n",
       "      <td>Harry Potter and the Chamber of Secrets (Harry...</td>\n",
       "      <td>J.K. Rowling</td>\n",
       "      <td>4.42</td>\n",
       "      <td>eng</td>\n",
       "      <td>352</td>\n",
       "      <td>6333</td>\n",
       "      <td>244</td>\n",
       "      <td>11/1/2003</td>\n",
       "      <td>Scholastic</td>\n",
       "      <td>The Dursleys were so mean and hideous that sum...</td>\n",
       "      <td>NaN</td>\n",
       "    </tr>\n",
       "    <tr>\n",
       "      <th>3</th>\n",
       "      <td>5</td>\n",
       "      <td>Harry Potter and the Prisoner of Azkaban (Harr...</td>\n",
       "      <td>J.K. Rowling/Mary GrandPré</td>\n",
       "      <td>4.56</td>\n",
       "      <td>eng</td>\n",
       "      <td>435</td>\n",
       "      <td>2339585</td>\n",
       "      <td>36325</td>\n",
       "      <td>5/1/2004</td>\n",
       "      <td>Scholastic Inc.</td>\n",
       "      <td>Harry Potter's third year at Hogwarts is full ...</td>\n",
       "      <td>NaN</td>\n",
       "    </tr>\n",
       "    <tr>\n",
       "      <th>4</th>\n",
       "      <td>8</td>\n",
       "      <td>Harry Potter Boxed Set  Books 1-5 (Harry Potte...</td>\n",
       "      <td>J.K. Rowling/Mary GrandPré</td>\n",
       "      <td>4.78</td>\n",
       "      <td>eng</td>\n",
       "      <td>2690</td>\n",
       "      <td>41428</td>\n",
       "      <td>164</td>\n",
       "      <td>9/13/2004</td>\n",
       "      <td>Scholastic</td>\n",
       "      <td>Through the magic of print-on-demand technolog...</td>\n",
       "      <td>NaN</td>\n",
       "    </tr>\n",
       "  </tbody>\n",
       "</table>\n",
       "</div>"
      ],
      "text/plain": [
       "   bookID                                              title  \\\n",
       "0       1  Harry Potter and the Half-Blood Prince (Harry ...   \n",
       "1       2  Harry Potter and the Order of the Phoenix (Har...   \n",
       "2       4  Harry Potter and the Chamber of Secrets (Harry...   \n",
       "3       5  Harry Potter and the Prisoner of Azkaban (Harr...   \n",
       "4       8  Harry Potter Boxed Set  Books 1-5 (Harry Potte...   \n",
       "\n",
       "                      authors average_rating language_code   num_pages  \\\n",
       "0  J.K. Rowling/Mary GrandPré           4.57           eng         652   \n",
       "1  J.K. Rowling/Mary GrandPré           4.49           eng         870   \n",
       "2                J.K. Rowling           4.42           eng         352   \n",
       "3  J.K. Rowling/Mary GrandPré           4.56           eng         435   \n",
       "4  J.K. Rowling/Mary GrandPré           4.78           eng        2690   \n",
       "\n",
       "  ratings_count  text_reviews_count publication_date        publisher  \\\n",
       "0       2095690               27591        9/16/2006  Scholastic Inc.   \n",
       "1       2153167               29221         9/1/2004  Scholastic Inc.   \n",
       "2          6333                 244        11/1/2003       Scholastic   \n",
       "3       2339585               36325         5/1/2004  Scholastic Inc.   \n",
       "4         41428                 164        9/13/2004       Scholastic   \n",
       "\n",
       "                                             summary Unnamed: 11  \n",
       "0  The war against Voldemort is not going well; e...         NaN  \n",
       "1  There is a door at the end of a silent corrido...         NaN  \n",
       "2  The Dursleys were so mean and hideous that sum...         NaN  \n",
       "3  Harry Potter's third year at Hogwarts is full ...         NaN  \n",
       "4  Through the magic of print-on-demand technolog...         NaN  "
      ]
     },
     "execution_count": 89,
     "metadata": {},
     "output_type": "execute_result"
    }
   ],
   "source": [
    "df.head()\n"
   ]
  },
  {
   "cell_type": "code",
   "execution_count": 126,
   "id": "abd1e7bb",
   "metadata": {},
   "outputs": [
    {
     "name": "stderr",
     "output_type": "stream",
     "text": [
      "[nltk_data] Downloading package stopwords to\n",
      "[nltk_data]     C:\\Users\\anmol\\AppData\\Roaming\\nltk_data...\n",
      "[nltk_data]   Package stopwords is already up-to-date!\n"
     ]
    },
    {
     "data": {
      "text/plain": [
       "True"
      ]
     },
     "execution_count": 126,
     "metadata": {},
     "output_type": "execute_result"
    }
   ],
   "source": [
    "nltk.download('stopwords') # if necessary..."
   ]
  },
  {
   "cell_type": "code",
   "execution_count": 127,
   "id": "adfbb01b",
   "metadata": {},
   "outputs": [],
   "source": [
    "def listToString(s): \n",
    "    string = \"\" \n",
    "    for ele in s: \n",
    "        string += ele+\" \"\n",
    "    \n",
    "    # return string  \n",
    "    return string"
   ]
  },
  {
   "cell_type": "code",
   "execution_count": 151,
   "id": "01fd17a4",
   "metadata": {},
   "outputs": [],
   "source": [
    "#Making text corpus\n",
    "text = []\n",
    "for ele in df.summary:\n",
    "    text.append(ele)\n",
    "    "
   ]
  },
  {
   "cell_type": "code",
   "execution_count": 152,
   "id": "c20f2a37",
   "metadata": {},
   "outputs": [],
   "source": [
    "#Preprocessing the text data\n",
    "sentences = []\n",
    "word_set = []\n",
    "stop = set(stopwords.words('english') + list(string.punctuation))\n",
    "\n",
    " \n",
    "for sent in text:\n",
    "    x = [i.lower() for  i in word_tokenize(sent) if i.isalpha()] #stop]\n",
    "    sentences.append(x)\n",
    "    for word in x:\n",
    "        if word not in word_set:\n",
    "            word_set.append(word)\n",
    " \n",
    "#Set of vocab \n",
    "word_set = set(word_set)\n",
    "#Total documents in our corpus\n",
    "total_documents = len(sentences)\n",
    " \n",
    "#Creating an index for each word in our vocab.\n",
    "index_dict = {} #Dictionary to store index for each word\n",
    "i = 0\n",
    "for word in word_set:\n",
    "    index_dict[word] = i\n",
    "    i += 1"
   ]
  },
  {
   "cell_type": "code",
   "execution_count": 153,
   "id": "5ff0de70",
   "metadata": {},
   "outputs": [],
   "source": [
    "#Create a count dictionary\n",
    " \n",
    "def count_dict(sentences):\n",
    "    word_count = {}\n",
    "    for word in word_set:\n",
    "        word_count[word] = 0\n",
    "        for sent in sentences:\n",
    "            if word in sent:\n",
    "                word_count[word] += 1\n",
    "    return word_count\n",
    " \n",
    "word_count = count_dict(sentences)"
   ]
  },
  {
   "cell_type": "code",
   "execution_count": 154,
   "id": "f021d2da",
   "metadata": {},
   "outputs": [],
   "source": [
    "#Term Frequency\n",
    "def termfreq(document, word):\n",
    "    N = len(document)\n",
    "    occurance = len([token for token in document if token == word])\n",
    "    return occurance/N"
   ]
  },
  {
   "cell_type": "code",
   "execution_count": 155,
   "id": "a7476d53",
   "metadata": {},
   "outputs": [],
   "source": [
    "#Inverse Document Frequency\n",
    " \n",
    "def inverse_doc_freq(word):\n",
    "    try:\n",
    "        word_occurance = word_count[word] + 1\n",
    "    except:\n",
    "        word_occurance = 1\n",
    "    return np.log(total_documents/word_occurance)\n"
   ]
  },
  {
   "cell_type": "code",
   "execution_count": 156,
   "id": "9f32e77a",
   "metadata": {},
   "outputs": [],
   "source": [
    "def tf_idf(sentence):\n",
    "    tf_idf_vec = np.zeros((len(word_set),))\n",
    "    for word in sentence:\n",
    "        tf = termfreq(sentence,word)\n",
    "        idf = inverse_doc_freq(word)\n",
    "         \n",
    "        value = tf*idf\n",
    "        tf_idf_vec[index_dict[word]] = value \n",
    "    return tf_idf_vec"
   ]
  },
  {
   "cell_type": "code",
   "execution_count": 157,
   "id": "a6f497f7",
   "metadata": {},
   "outputs": [],
   "source": [
    "#TF-IDF Encoded text corpus\n",
    "vectors = []\n",
    "for sent in sentences:\n",
    "    vec = tf_idf(sent)\n",
    "    vectors.append(vec)\n",
    " \n"
   ]
  },
  {
   "cell_type": "code",
   "execution_count": 159,
   "id": "9ae7e972",
   "metadata": {},
   "outputs": [
    {
     "name": "stdout",
     "output_type": "stream",
     "text": [
      "16412\n"
     ]
    }
   ],
   "source": [
    "print(len(vectors[1]))"
   ]
  },
  {
   "cell_type": "markdown",
   "id": "4da29a48",
   "metadata": {},
   "source": [
    "# NAME OF THE BOOK from the csv"
   ]
  },
  {
   "cell_type": "code",
   "execution_count": 160,
   "id": "6dea8bf9",
   "metadata": {},
   "outputs": [],
   "source": [
    "cosines = []\n",
    "\n",
    "A = vectors[0]\n",
    "for ele in vectors:\n",
    "    cosine = np.dot(A,ele)/(norm(A)*norm(ele))\n",
    "    cosines.append(cosine)"
   ]
  },
  {
   "cell_type": "code",
   "execution_count": 161,
   "id": "602536cb",
   "metadata": {},
   "outputs": [
    {
     "data": {
      "image/png": "[encoded data removed]",
      "text/plain": [
       "<Figure size 432x288 with 1 Axes>"
      ]
     },
     "metadata": {
      "needs_background": "light"
     },
     "output_type": "display_data"
    }
   ],
   "source": [
    "x = list(range(0, len(df)))\n",
    "y = cosines\n",
    "\n",
    "plt.scatter(x, y)\n",
    "plt.show()"
   ]
  },
  {
   "cell_type": "code",
   "execution_count": 162,
   "id": "f952ee3b",
   "metadata": {},
   "outputs": [
    {
     "name": "stdout",
     "output_type": "stream",
     "text": [
      "Harry Potter Boxed Set  Books 1-5 (Harry Potter  #1-5)    :   0.1023448097325231\n",
      "No Price Too High: A Pentecostal Preacher Becomes Catholic - The Inspirational Story of Alex Jones as Told to Diane Hanson    :   0.11185854788608111\n",
      "Three Plays: The Wasps / The Poet and the Women / The Frogs    :   0.14050995176507347\n",
      "Harry Potter and the Order of the Phoenix (Harry Potter  #5)    :   0.14183999935761288\n",
      "Unauthorized Harry Potter Book Seven News: \"Half-Blood Prince\" Analysis and Speculation    :   0.1445784267246444\n",
      "Harry Potter and the Prisoner of Azkaban (Harry Potter  #3)    :   0.23755408593536698\n",
      "Frogs/Assemblywomen/Wealth (Loeb Classical Library 180)    :   0.24229849853691215\n",
      "Harry Potter and the Chamber of Secrets (Harry Potter  #2)    :   0.27336024427907313\n",
      "Harry Potter and the Half-Blood Prince (Harry Potter  #6)    :   1.0000000000000002\n",
      "Uncommon Carriers    :   1.0000000000000002\n"
     ]
    }
   ],
   "source": [
    "x = sorted(range(len(cosines)), key=lambda i: cosines[i])[-10:] # For top 10\n",
    "\n",
    "for i in x:\n",
    "    print(df_title[i] + \"    :   \" + str(cosines[i]))\n",
    "    "
   ]
  },
  {
   "cell_type": "code",
   "execution_count": null,
   "id": "24b73f85",
   "metadata": {},
   "outputs": [],
   "source": []
  },
  {
   "cell_type": "code",
   "execution_count": null,
   "id": "9594100d",
   "metadata": {},
   "outputs": [],
   "source": []
  }
 ],
 "metadata": {
  "celltoolbar": "Raw Cell Format",
  "kernelspec": {
   "display_name": "Python 3 (ipykernel)",
   "language": "python",
   "name": "python3"
  },
  "language_info": {
   "codemirror_mode": {
    "name": "ipython",
    "version": 3
   },
   "file_extension": ".py",
   "mimetype": "text/x-python",
   "name": "python",
   "nbconvert_exporter": "python",
   "pygments_lexer": "ipython3",
   "version": "3.10.0"
  }
 },
 "nbformat": 4,
 "nbformat_minor": 5
}
